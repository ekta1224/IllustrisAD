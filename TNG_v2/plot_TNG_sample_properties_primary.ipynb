{
 "cells": [
  {
   "cell_type": "code",
   "execution_count": 85,
   "metadata": {},
   "outputs": [],
   "source": [
    "import numpy as np\n",
    "import scipy.linalg as la\n",
    "import matplotlib.pyplot as plt\n",
    "plt.style.use('plotting')"
   ]
  },
  {
   "cell_type": "code",
   "execution_count": 86,
   "metadata": {},
   "outputs": [
    {
     "name": "stdout",
     "output_type": "stream",
     "text": [
      "[ 4.29041000e+05  3.07635352e+03  3.25153672e+04  3.90027686e+03\n",
      " -1.47242756e+01 -3.30249146e+02  1.10245094e+02  1.02576187e+02\n",
      "  3.81455040e+00  2.17312149e+02] 94\n"
     ]
    }
   ],
   "source": [
    "#primary\n",
    "sample = np.loadtxt('M31analogs_halo_props_TNG100_revised.txt') \n",
    "print(sample[0], len(sample))\n",
    "\n",
    "ids = sample[:,0]\n",
    "halo_mass = sample[:,7]*1e10/0.704\n",
    "stellar_mass = sample[:,8]*1e10/0.704\n",
    "vmax = sample[:,9]\n",
    "subhalomass = np.loadtxt('M31analogs_halo_props_TNG100_revised_subhalomass.txt')[:,10]*1e10/0.704"
   ]
  },
  {
   "cell_type": "code",
   "execution_count": 87,
   "metadata": {},
   "outputs": [
    {
     "name": "stdout",
     "output_type": "stream",
     "text": [
      "[ 4.29041000e+05  3.07635352e+03  3.25153672e+04  3.90027686e+03\n",
      " -1.47242756e+01 -3.30249146e+02  1.10245094e+02  1.02576187e+02\n",
      "  3.81455040e+00  2.17312149e+02] 94\n"
     ]
    }
   ],
   "source": [
    "#full\n",
    "fsample = np.loadtxt('M31analogs_halo_props_TNG100_revised_subhalomass.txt') \n",
    "print(sample[0], len(sample))\n",
    "\n",
    "fids = fsample[:,0]\n",
    "fhalo_mass = fsample[:,7]*1e10/0.704\n",
    "fstellar_mass = fsample[:,8]*1e10/0.704\n",
    "fvmax = fsample[:,9]\n",
    "#subhalomass = np.loadtxt('M31analogs_halo_props_TNG100_revised_subhalomass.txt')[:,10]*1e10/0.704"
   ]
  },
  {
   "cell_type": "code",
   "execution_count": null,
   "metadata": {},
   "outputs": [],
   "source": [
    "plt.figure(figsize=(14,4))\n",
    "plt.subplot(131)\n",
    "plt.hist(halo_mass, bins = 12, lw=2, color='C0',alpha=0.7,)\n",
    "plt.hist(halo_mass, bins = 12, lw=2, histtype='step',color='C0')\n",
    "plt.hist(fhalo_mass, bins = 12,  histtype='step', lw=2)\n",
    "plt.xlabel(r'$M_{vir}\\, \\, (M_{\\odot})$')\n",
    "plt.ylabel('N')\n",
    "\n",
    "plt.subplot(132)\n",
    "plt.hist(fstellar_mass, bins = 12, histtype='step', lw=2, label='Sample of 215 Analogs')\n",
    "plt.hist(stellar_mass, bins = 12, color='C0', lw=2, alpha=0.7,label='Primary Sample of 94 Analogs')\n",
    "plt.hist(stellar_mass, bins = 12, lw=2, histtype='step',color='C0')\n",
    "plt.xlabel(r'$M_{*}\\, \\, (M_{\\odot})$')\n",
    "plt.legend(fontsize=10)\n",
    "\n",
    "plt.subplot(133)\n",
    "plt.hist(vmax, bins = 12, color='C0',alpha=0.7, lw=2)\n",
    "plt.hist(vmax, bins = 12, color='C0',histtype='step', lw=2)\n",
    "plt.hist(fvmax, bins = 12, histtype='step', lw=2)\n",
    "plt.xlabel(r'Subhalo $V_{max}\\,\\, (km \\, \\, s^{-1})$')\n",
    "plt.axvline(x=250, ls='--',c='gray')\n",
    "plt.savefig('properties_histograms.png')"
   ]
  },
  {
   "cell_type": "code",
   "execution_count": null,
   "metadata": {},
   "outputs": [],
   "source": [
    "mergers = np.loadtxt('M31analogs_merger_props_TNG100_revised.txt')\n",
    "all_ids = mergers[:,0]\n",
    "mask = np.in1d(all_ids, ids) #create mask of ids in the primary sample and apply to these properties\n",
    "last_maj = mergers[:,2]\n",
    "num_maj = mergers[:,3]\n",
    "num_min = mergers[:,4]\n",
    "print(len(last_maj))"
   ]
  },
  {
   "cell_type": "code",
   "execution_count": null,
   "metadata": {},
   "outputs": [],
   "source": [
    "plt.figure()\n",
    "plt.hist(last_maj, bins=10, histtype='step', lw=2, label='215 Analogs')\n",
    "plt.hist(last_maj[mask], bins=10, histtype='step',color='C0', lw=2)\n",
    "plt.hist(last_maj[mask], bins=10, alpha=0.7, color='C0',lw=2, label='Primary Sample of 94 Analogs')\n",
    "plt.xlabel('Time Since Last 4:1 merger (Gyr)')\n",
    "plt.ylabel('N')\n",
    "plt.legend(loc='upper left')\n",
    "print(np.median(last_maj))\n",
    "plt.axvline(x=np.median(last_maj), ls='--', color='gray')\n",
    "plt.xlim(-0.2,14.)\n",
    "plt.ylim(0,37)\n",
    "plt.savefig('last_maj_merger_time.png')"
   ]
  },
  {
   "cell_type": "code",
   "execution_count": null,
   "metadata": {},
   "outputs": [],
   "source": [
    "plt.figure()\n",
    "tot = num_maj+num_min\n",
    "print(num_maj[0], num_min[0], tot[0], np.max(tot), len(tot[mask]))\n",
    "plt.hist(num_maj[mask], bins=12, range=(0,25), histtype='step', lw=2, label='4:1 mergers')\n",
    "plt.hist(num_maj[mask], bins=12, range=(0,25), alpha=0.5, color='C0', lw=2)\n",
    "plt.hist(num_min[mask], bins=12, range=(0,25), histtype='step', color='crimson', lw=2.5, label='10:1 mergers')\n",
    "plt.hist(tot[mask], bins=12,range=(0,25), histtype='step', color='k', lw=3, label='total mergers')\n",
    "plt.xlabel('Number of mergers')\n",
    "plt.ylabel('N')\n",
    "plt.legend(loc='upper right')\n",
    "plt.savefig('num_of_mergers.png')"
   ]
  },
  {
   "cell_type": "code",
   "execution_count": null,
   "metadata": {},
   "outputs": [],
   "source": [
    "#apply mask here too\n",
    "plt.figure()\n",
    "print(len(subhalomass))\n",
    "plt.hist(subhalomass, bins = 10, histtype='step', lw=2)\n",
    "plt.xlabel(r'$M_{sub}\\, \\, [M_{\\odot}]$')"
   ]
  },
  {
   "cell_type": "code",
   "execution_count": null,
   "metadata": {},
   "outputs": [],
   "source": []
  }
 ],
 "metadata": {
  "kernelspec": {
   "display_name": "Python 3",
   "language": "python",
   "name": "python3"
  },
  "language_info": {
   "codemirror_mode": {
    "name": "ipython",
    "version": 3
   },
   "file_extension": ".py",
   "mimetype": "text/x-python",
   "name": "python",
   "nbconvert_exporter": "python",
   "pygments_lexer": "ipython3",
   "version": "3.7.3"
  }
 },
 "nbformat": 4,
 "nbformat_minor": 2
}
