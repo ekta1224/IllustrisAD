{
 "cells": [
  {
   "cell_type": "code",
   "execution_count": 1,
   "metadata": {},
   "outputs": [],
   "source": [
    "import numpy as np\n",
    "import scipy.linalg as la\n",
    "import matplotlib.pyplot as plt\n",
    "plt.style.use('plotting')"
   ]
  },
  {
   "cell_type": "code",
   "execution_count": 9,
   "metadata": {},
   "outputs": [
    {
     "name": "stdout",
     "output_type": "stream",
     "text": [
      "[ 4.29041000e+05  3.07635352e+03  3.25153672e+04  3.90027686e+03\n",
      " -1.47242756e+01 -3.30249146e+02  1.10245094e+02  1.02576187e+02\n",
      "  3.81455040e+00  2.17312149e+02] 157\n"
     ]
    }
   ],
   "source": [
    "sample = np.loadtxt('M31analogs_halo_props_TNG100_revised.txt') #skip header\n",
    "print(sample[0], len(sample))\n",
    "\n",
    "ids = sample[:,0]\n",
    "halo_mass = sample[:,7]*1e10/0.704\n",
    "stellar_mass = sample[:,8]*1e10/0.704\n",
    "vmax = sample[:,9]"
   ]
  },
  {
   "cell_type": "code",
   "execution_count": 27,
   "metadata": {},
   "outputs": [
    {
     "data": {
      "text/plain": [
       "Text(0.5, 0, '$M_{vir}\\\\, \\\\, [M_{\\\\odot}]$')"
      ]
     },
     "execution_count": 27,
     "metadata": {},
     "output_type": "execute_result"
    },
    {
     "data": {
      "image/png": "[encoded data removed]",
      "text/plain": [
       "<Figure size 432x288 with 1 Axes>"
      ]
     },
     "metadata": {
      "needs_background": "light"
     },
     "output_type": "display_data"
    }
   ],
   "source": [
    "plt.figure()\n",
    "plt.hist(halo_mass, bins = 10, histtype='step', lw=2)\n",
    "plt.xlabel(r'$M_{vir}\\, \\, [M_{\\odot}]$')"
   ]
  },
  {
   "cell_type": "code",
   "execution_count": 28,
   "metadata": {},
   "outputs": [
    {
     "data": {
      "text/plain": [
       "Text(0.5, 0, '$M_{*}\\\\, \\\\, [M_{\\\\odot}]$')"
      ]
     },
     "execution_count": 28,
     "metadata": {},
     "output_type": "execute_result"
    },
    {
     "data": {
      "image/png": "[encoded data removed]",
      "text/plain": [
       "<Figure size 432x288 with 1 Axes>"
      ]
     },
     "metadata": {
      "needs_background": "light"
     },
     "output_type": "display_data"
    }
   ],
   "source": [
    "plt.figure()\n",
    "plt.hist(stellar_mass, bins = 10, histtype='step', lw=2)\n",
    "plt.xlabel(r'$M_{*}\\, \\, [M_{\\odot}]$')"
   ]
  },
  {
   "cell_type": "code",
   "execution_count": 31,
   "metadata": {},
   "outputs": [
    {
     "data": {
      "text/plain": [
       "<matplotlib.lines.Line2D at 0x105efc2e8>"
      ]
     },
     "execution_count": 31,
     "metadata": {},
     "output_type": "execute_result"
    },
    {
     "data": {
      "image/png": "[encoded data removed]",
      "text/plain": [
       "<Figure size 432x288 with 1 Axes>"
      ]
     },
     "metadata": {
      "needs_background": "light"
     },
     "output_type": "display_data"
    }
   ],
   "source": [
    "plt.figure()\n",
    "plt.hist(vmax, bins = 10, histtype='step', lw=2)\n",
    "plt.xlabel(r'Subhalo $V_{max}\\,\\, [km \\, \\, s^{-1}]$')\n",
    "plt.axvline(x=250, ls='--')"
   ]
  },
  {
   "cell_type": "code",
   "execution_count": null,
   "metadata": {},
   "outputs": [],
   "source": [
    "mergers = np.loadtxt('M31analogs_merger_props_TNG100_revised.txt') #skip header\n"
   ]
  }
 ],
 "metadata": {
  "kernelspec": {
   "display_name": "Python 3",
   "language": "python",
   "name": "python3"
  },
  "language_info": {
   "codemirror_mode": {
    "name": "ipython",
    "version": 3
   },
   "file_extension": ".py",
   "mimetype": "text/x-python",
   "name": "python",
   "nbconvert_exporter": "python",
   "pygments_lexer": "ipython3",
   "version": "3.7.3"
  }
 },
 "nbformat": 4,
 "nbformat_minor": 2
}
