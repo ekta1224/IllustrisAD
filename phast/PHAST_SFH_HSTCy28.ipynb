{
 "cells": [
  {
   "cell_type": "code",
   "execution_count": 1,
   "metadata": {},
   "outputs": [],
   "source": [
    "import numpy as np\n",
    "import matplotlib\n",
    "from matplotlib import rc\n",
    "import matplotlib.pyplot as plt\n",
    "import matplotlib.colors as colors\n",
    "#matplotlib.rcParams['agg.path.chunksize'] = 10000\n",
    "#matplotlib.rcParams['font.size'] = 16\n",
    "from cosmo_tools import time, snapnum2z\n",
    "#from plot_SFR_Z_panels_recentMM import per_bi\n",
    "from matplotlib.ticker import FuncFormatter\n",
    "plt.style.use('plotting')"
   ]
  },
  {
   "cell_type": "code",
   "execution_count": 2,
   "metadata": {
    "scrolled": false
   },
   "outputs": [
    {
     "name": "stdout",
     "output_type": "stream",
     "text": [
      "[5.87538615 3.68327032 2.21894551 1.41583815 0.97280227 0.65191306\n",
      " 0.45771782 0.32758262 0.13142427]\n"
     ]
    },
    {
     "data": {
      "image/png": "[encoded data removed]",
      "text/plain": [
       "<Figure size 576x324 with 2 Axes>"
      ]
     },
     "metadata": {
      "needs_background": "light"
     },
     "output_type": "display_data"
    }
   ],
   "source": [
    "id = 396140\n",
    "\n",
    "times, left_sfr, right_sfr = np.loadtxt('%s_SFR_time_summed_remloc.txt'%id, usecols=(0,1,2), unpack=True)\n",
    "print(times) #left now refers to the side with the remnant\n",
    "# print left_sfr\n",
    "# print right_sfr\n",
    "max = np.max([np.max(left_sfr), np.max(right_sfr)])\n",
    "\n",
    "times2 = list(times)\n",
    "times2.append(0.)\n",
    "xx = np.diff(times2)\n",
    "# print xx*-1\n",
    "#widths = np.array(widths)/1e9 # these are the right #s in Gyr\n",
    "plt.figure(figsize=(8,4.5))\n",
    "ax1 = plt.subplot(121)\n",
    "ax1.bar(times, left_sfr, width=np.array(xx)*-1, align='center', alpha=0.3)#, lw=2, edgecolor='red')\n",
    "#ax1.plot(times, left_sfr, '.')\n",
    "#ax1.set_xscale(\"log\")\n",
    "#ax1.set_xticks([10., 1, .1, .01])\n",
    "#ax1.set_xticklabels(['10', '1', '0.1', '0.01'])\n",
    "ax1.set_ylim(0, max+1)\n",
    "ax1.set_xlim(ax1.get_xlim()[::-1]) \n",
    "ax1.set_title('half containing remnant')\n",
    "#ax1.set_xlabel('Age [Gyr]', labelpad=-3)\n",
    "ax1.set_ylabel(r'SFR [M$_{\\odot}$/yr]') \n",
    "ax1.set_xlabel('Age [Gyr]')\n",
    "\n",
    "#plt.figure(figsize=(8,4.5))\n",
    "ax2 = plt.subplot(122)\n",
    "ax2.bar(times, right_sfr, width=np.array(xx)*-1, align='center', color='red', alpha=0.3)\n",
    "#ax2.plot(times, right_sfr, '.')\n",
    "#ax2.set_xscale(\"log\")\n",
    "#ax2.set_xticks([10., 1, .1, .01])\n",
    "#ax2.set_xticklabels(['10', '1', '0.1', '0.01'])\n",
    "ax2.set_xlim(ax2.get_xlim()[::-1]) \n",
    "ax2.set_ylim(0, max+1)\n",
    "ax2.set_title('half opposite remnant')\n",
    "ax2.set_xlabel('Age [Gyr]')#, labelpad=-1)\n",
    "#ax2.set_ylabel(r'SFR [M$_{\\odot}$/yr]') \n",
    "plt.tight_layout()\n",
    "plt.savefig('PHAST_M31Illustris_SFH_Cycle28.pdf')"
   ]
  },
  {
   "cell_type": "code",
   "execution_count": 3,
   "metadata": {},
   "outputs": [
    {
     "name": "stdout",
     "output_type": "stream",
     "text": [
      "[0.80586039 2.33702167 2.19577061 1.63376175 0.787775   0.43574895\n",
      " 0.4275894  0.68261181 0.32449486]\n",
      "[1.24090972 0.42789505 0.45542098 0.61208435 1.26939799 2.29489941\n",
      " 2.3386922  1.46496147 3.08171288]\n",
      "[5.87538615 3.68327032 2.21894551 1.41583815 0.97280227 0.65191306\n",
      " 0.45771782 0.32758262 0.13142427]\n"
     ]
    }
   ],
   "source": [
    "print(left_sfr/right_sfr)\n",
    "print(right_sfr/left_sfr)\n",
    "print(times)"
   ]
  },
  {
   "cell_type": "markdown",
   "metadata": {},
   "source": [
    "# Cycle 29: combine panels onto one figure "
   ]
  },
  {
   "cell_type": "code",
   "execution_count": 11,
   "metadata": {},
   "outputs": [
    {
     "name": "stdout",
     "output_type": "stream",
     "text": [
      "[5.87538615 3.68327032 2.21894551 1.41583815 0.97280227 0.65191306\n",
      " 0.45771782 0.32758262 0.13142427]\n"
     ]
    },
    {
     "data": {
      "image/png": "[encoded data removed]",
      "text/plain": [
       "<Figure size 432x432 with 1 Axes>"
      ]
     },
     "metadata": {
      "needs_background": "light"
     },
     "output_type": "display_data"
    }
   ],
   "source": [
    "id = 396140\n",
    "\n",
    "times, left_sfr, right_sfr = np.loadtxt('%s_SFR_time_summed_remloc.txt'%id, usecols=(0,1,2), unpack=True)\n",
    "print(times) #left now refers to the side with the remnant\n",
    "max = np.max([np.max(left_sfr), np.max(right_sfr)])\n",
    "\n",
    "times2 = list(times)\n",
    "times2.append(0.)\n",
    "xx = np.diff(times2)\n",
    "\n",
    "plt.figure(figsize=(6,6))\n",
    "ax1 = plt.subplot(111)\n",
    "ax1.bar(times, right_sfr, width=np.array(xx)*-1, align='center', color='red', alpha=0.2, label='half opposite remnant')\n",
    "ax1.bar(times, left_sfr, width=np.array(xx)*-1, align='center', alpha=0.3,label='half containing remnant')#, lw=2, edgecolor='red')\n",
    "ax1.set_ylim(0, max+1)\n",
    "ax1.set_xlim(ax1.get_xlim()[::-1]) \n",
    "ax1.set_ylabel(r'SFR [M$_{\\odot}$/yr]') \n",
    "ax1.set_xlabel('Age [Gyr]')\n",
    "\n",
    "ax1.legend()\n",
    "plt.savefig('PHAST_M31Illustris_SFH_Cycle29.pdf')"
   ]
  },
  {
   "cell_type": "code",
   "execution_count": null,
   "metadata": {},
   "outputs": [],
   "source": []
  }
 ],
 "metadata": {
  "kernelspec": {
   "display_name": "Python 3",
   "language": "python",
   "name": "python3"
  },
  "language_info": {
   "codemirror_mode": {
    "name": "ipython",
    "version": 3
   },
   "file_extension": ".py",
   "mimetype": "text/x-python",
   "name": "python",
   "nbconvert_exporter": "python",
   "pygments_lexer": "ipython3",
   "version": "3.7.3"
  }
 },
 "nbformat": 4,
 "nbformat_minor": 2
}
