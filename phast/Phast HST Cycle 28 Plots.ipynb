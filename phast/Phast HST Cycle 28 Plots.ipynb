{
 "cells": [
  {
   "cell_type": "code",
   "execution_count": 1,
   "metadata": {},
   "outputs": [],
   "source": [
    "import numpy as np\n",
    "import matplotlib\n",
    "from matplotlib import rc\n",
    "import matplotlib.pyplot as plt\n",
    "import matplotlib.colors as colors\n",
    "#matplotlib.rcParams['agg.path.chunksize'] = 10000\n",
    "#matplotlib.rcParams['font.size'] = 16\n",
    "from cosmo_tools import time, snapnum2z\n",
    "#matplotlib.rcParams['text.usetex'] = True"
   ]
  },
  {
   "cell_type": "code",
   "execution_count": 11,
   "metadata": {},
   "outputs": [
    {
     "name": "stdout",
     "output_type": "stream",
     "text": [
      "(100584, 100584)\n",
      "[0.98968846 0.80558592 0.61710542 0.78538615 0.77711499 0.91566658\n",
      " 0.5026086  0.82428885 0.78283179 0.99763364]\n"
     ]
    }
   ],
   "source": [
    "id = 396140\n",
    "        \n",
    "#load stellar data\n",
    "ppx, ppy, ppz, ppvx, ppvy, ppvz, ppm, ppage, ppgz = np.loadtxt('../data/M31analog_%s_star_properties_rotated.txt'%id, usecols=(0, 1, 2, 3, 4, 5, 6, 7,8), unpack = True)\n",
    "#print len(ppz)\n",
    "#print len(ppgz), len(ppage[ppage >0.])\n",
    "\n",
    "ppx = ppx[ppage > 0.]\n",
    "ppy = ppy[ppage > 0.]\n",
    "ppz = ppz[ppage > 0.]\n",
    "ppm = ppm[ppage > 0.]\n",
    "ppgz = np.abs(ppgz[ppage > 0.])\n",
    "ppage = ppage[ppage > 0.]\n",
    "print(len(ppage), len(ppx))\n",
    "print(ppage[:10])\n",
    "\n",
    "\n",
    "m = -2.0093492768477392 \n",
    "b = 0.0\n",
    "y = m*ppx + b\n",
    "\n",
    "left = (ppy <= y)\n",
    "right = (ppy > y)\n",
    "np.savetxt('396140_metallicity_age_phast_cycle28.txt', np.column_stack((ppx, ppy, ppgz, ppage)), delimiter=\"  \")"
   ]
  },
  {
   "cell_type": "code",
   "execution_count": 3,
   "metadata": {},
   "outputs": [
    {
     "data": {
      "image/png": "[encoded data removed]",
      "text/plain": [
       "<Figure size 432x288 with 1 Axes>"
      ]
     },
     "metadata": {
      "needs_background": "light"
     },
     "output_type": "display_data"
    }
   ],
   "source": [
    "plt.figure()\n",
    "plt.hist(ppage, bins=20)\n",
    "plt.show()\n"
   ]
  },
  {
   "cell_type": "code",
   "execution_count": 6,
   "metadata": {},
   "outputs": [
    {
     "data": {
      "image/png": "[encoded data removed]",
      "text/plain": [
       "<Figure size 432x288 with 1 Axes>"
      ]
     },
     "metadata": {
      "needs_background": "light"
     },
     "output_type": "display_data"
    }
   ],
   "source": [
    "plt.figure()\n",
    "plt.hist(ppgz, bins=100)\n",
    "plt.xlabel('metallicity')\n",
    "plt.savefig('396140_metallicity_hist.pdf')\n",
    "plt.show()"
   ]
  },
  {
   "cell_type": "code",
   "execution_count": null,
   "metadata": {},
   "outputs": [],
   "source": []
  }
 ],
 "metadata": {
  "kernelspec": {
   "display_name": "Python 3",
   "language": "python",
   "name": "python3"
  },
  "language_info": {
   "codemirror_mode": {
    "name": "ipython",
    "version": 3
   },
   "file_extension": ".py",
   "mimetype": "text/x-python",
   "name": "python",
   "nbconvert_exporter": "python",
   "pygments_lexer": "ipython3",
   "version": "3.7.3"
  }
 },
 "nbformat": 4,
 "nbformat_minor": 2
}
