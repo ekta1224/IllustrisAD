{
 "cells": [
  {
   "cell_type": "code",
   "execution_count": 17,
   "metadata": {},
   "outputs": [
    {
     "name": "stdout",
     "output_type": "stream",
     "text": [
      "Populating the interactive namespace from numpy and matplotlib\n"
     ]
    }
   ],
   "source": [
    "import numpy as np\n",
    "%pylab inline"
   ]
  },
  {
   "cell_type": "code",
   "execution_count": 18,
   "metadata": {},
   "outputs": [
    {
     "name": "stdout",
     "output_type": "stream",
     "text": [
      "61\n"
     ]
    }
   ],
   "source": [
    "ids = np.loadtxt('M31analogs_noMM8Gyr_mstar.txt') #61                                                                                \n",
    "print(len(ids))"
   ]
  },
  {
   "cell_type": "code",
   "execution_count": 19,
   "metadata": {},
   "outputs": [
    {
     "name": "stdout",
     "output_type": "stream",
     "text": [
      "344914.0\n",
      "348189.0\n",
      "356427.0\n",
      "357697.0\n",
      "378822.0\n",
      "380556.0\n",
      "383146.0\n",
      "383612.0\n",
      "385916.0\n",
      "388492.0\n",
      "389030.0\n",
      "389295.0\n",
      "389373.0\n",
      "389486.0\n",
      "390254.0\n",
      "390669.0\n",
      "391347.0\n",
      "391604.0\n",
      "393301.0\n",
      "393917.0\n",
      "394102.0\n",
      "394217.0\n",
      "394664.0\n",
      "394942.0\n",
      "397062.0\n",
      "397148.0\n",
      "397541.0\n",
      "398310.0\n",
      "398622.0\n",
      "399083.0\n",
      "399474.0\n",
      "399648.0\n",
      "400004.0\n",
      "401567.0\n",
      "401663.0\n",
      "402203.0\n",
      "402423.0\n",
      "402479.0\n",
      "402963.0\n",
      "403032.0\n",
      "403273.0\n",
      "403704.0\n",
      "403844.0\n",
      "405572.0\n",
      "406000.0\n",
      "407372.0\n",
      "408152.0\n",
      "408916.0\n",
      "408954.0\n",
      "409395.0\n",
      "409851.0\n",
      "410304.0\n",
      "414031.0\n",
      "415258.0\n",
      "416546.0\n",
      "417420.0\n",
      "417709.0\n",
      "417812.0\n",
      "419510.0\n",
      "424002.0\n",
      "425090.0\n"
     ]
    }
   ],
   "source": [
    "sfr_noMM = []\n",
    "for id in ids:\n",
    "    print(id)\n",
    "    \n",
    "    #load gas data at snap 135 to see if total SFR is >=1                                                                                                              \n",
    "    ppx2, ppy2, ppz2, ppvx2, ppvy2, ppvz2, ppm2, ppnh2, ppsfr2, ppgz2 = np.loadtxt('../data/M31analog_%s_gas_properties_ro\\\n",
    "tated.txt'%(int(id)), usecols=(0, 1, 2, 3, 4, 5, 6, 7,8,9), unpack = True)\n",
    "    sfr_noMM.append(np.sum(ppsfr2))"
   ]
  },
  {
   "cell_type": "code",
   "execution_count": 20,
   "metadata": {},
   "outputs": [
    {
     "name": "stdout",
     "output_type": "stream",
     "text": [
      "61\n",
      "390429.0\n",
      "392084.0\n",
      "392544.0\n",
      "396140.0\n",
      "400733.0\n",
      "413061.0\n"
     ]
    }
   ],
   "source": [
    "ids2 = np.loadtxt('M31analogs_MM1_4Gyr_mstar.txt')#6                                                                                \n",
    "print(len(ids))\n",
    "\n",
    "sfr_MM = []\n",
    "for id in ids2:\n",
    "    print(id)\n",
    "    \n",
    "    #load gas data at snap 135 to see if total SFR is >=1                                                                                                              \n",
    "    ppx2, ppy2, ppz2, ppvx2, ppvy2, ppvz2, ppm2, ppnh2, ppsfr2, ppgz2 = np.loadtxt('../data/M31analog_%s_gas_properties_ro\\\n",
    "tated.txt'%(int(id)), usecols=(0, 1, 2, 3, 4, 5, 6, 7,8,9), unpack = True)\n",
    "    sfr_MM.append(np.sum(ppsfr2))"
   ]
  },
  {
   "cell_type": "code",
   "execution_count": 28,
   "metadata": {},
   "outputs": [
    {
     "name": "stdout",
     "output_type": "stream",
     "text": [
      "357697.0 389030.0\n",
      "5.910311602434376 10.083798029023455\n",
      "[ 3.91108335  6.06040691  6.78813627 10.98562596 11.08126988 11.52205359]\n"
     ]
    },
    {
     "data": {
      "text/plain": [
       "(array([ 6.,  4.,  4.,  4.,  7.,  7.,  6.,  5., 10.,  1.,  2.,  0.,  2.,\n",
       "         1.,  1.,  0.,  0.,  0.,  0.,  0.,  0.,  0.,  0.,  0.,  0.,  0.,\n",
       "         0.,  0.,  0.,  1.]),\n",
       " array([ 0.13953087,  1.10638964,  2.07324841,  3.04010718,  4.00696595,\n",
       "         4.97382472,  5.94068349,  6.90754226,  7.87440103,  8.84125981,\n",
       "         9.80811858, 10.77497735, 11.74183612, 12.70869489, 13.67555366,\n",
       "        14.64241243, 15.6092712 , 16.57612997, 17.54298874, 18.50984751,\n",
       "        19.47670628, 20.44356505, 21.41042382, 22.37728259, 23.34414136,\n",
       "        24.31100013, 25.2778589 , 26.24471767, 27.21157644, 28.17843521,\n",
       "        29.14529398]),\n",
       " <a list of 30 Patch objects>)"
      ]
     },
     "execution_count": 28,
     "metadata": {},
     "output_type": "execute_result"
    },
    {
     "data": {
      "image/png": "[encoded data removed]",
      "text/plain": [
       "<Figure size 432x288 with 1 Axes>"
      ]
     },
     "metadata": {
      "needs_background": "light"
     },
     "output_type": "display_data"
    }
   ],
   "source": [
    "#print(np.sort(sfr_noMM))\n",
    "sfr_noMM= np.array(sfr_noMM)\n",
    "ids=np.array(ids)\n",
    "print(ids[3], ids[10])\n",
    "print(sfr_noMM[3], sfr_noMM[10])\n",
    "print(np.sort(sfr_MM))\n",
    "plt.figure()\n",
    "plt.hist(sfr_MM,bins=30,alpha=0.3)\n",
    "\n",
    "plt.hist(sfr_noMM,bins=30, alpha=0.3)"
   ]
  },
  {
   "cell_type": "code",
   "execution_count": null,
   "metadata": {},
   "outputs": [],
   "source": []
  }
 ],
 "metadata": {
  "kernelspec": {
   "display_name": "Python 3",
   "language": "python",
   "name": "python3"
  },
  "language_info": {
   "codemirror_mode": {
    "name": "ipython",
    "version": 3
   },
   "file_extension": ".py",
   "mimetype": "text/x-python",
   "name": "python",
   "nbconvert_exporter": "python",
   "pygments_lexer": "ipython3",
   "version": "3.7.3"
  }
 },
 "nbformat": 4,
 "nbformat_minor": 2
}
